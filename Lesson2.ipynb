{
 "cells": [
  {
   "cell_type": "markdown",
   "metadata": {},
   "source": [
    "# Reading from remote data sources, string manipulation and analysis, using modules.\n",
    "\n",
    "Today's session will cover things like importing data, manipulating and analyzing that data, and exporting/saving data.  We will also introduce the concept of using other people's code by importing modules/libraries using python."
   ]
  },
  {
   "cell_type": "markdown",
   "metadata": {},
   "source": [
    "## String manipulation\n",
    "\n",
    "Strings are one of the major datatypes that Python uses.  An interesting note about strings in python is: strings are seen in Python as lists.\n",
    "\n",
    "For example:"
   ]
  },
  {
   "cell_type": "code",
   "execution_count": null,
   "metadata": {
    "collapsed": true
   },
   "outputs": [],
   "source": [
    "my_name = input(\"what is your full name? (first and last):\")\n",
    "print(type(my_name))"
   ]
  },
  {
   "cell_type": "markdown",
   "metadata": {},
   "source": [
    "You can see that the variable `example_string` has a type `str` (it's seen as a string).\n",
    "\n",
    "If you remember though, to get a specific element of a list, we can use bracket notation `[]` to retrieve a particular element of a list.  Try it with your name:\n",
    "\n",
    "We can also use list specific functions on our string.  Find out how many letters are in your name!"
   ]
  },
  {
   "cell_type": "code",
   "execution_count": null,
   "metadata": {
    "collapsed": true
   },
   "outputs": [],
   "source": [
    "## here is the code to print the first letter of your name.\n",
    "print(my_name[0])\n",
    "\n",
    "## Change the code to print the first letter of your Last name\n",
    "\n",
    "## how long is your name??\n",
    "print(len(my_name))\n",
    "\n",
    "## How can you make Python print your initials??\n"
   ]
  },
  {
   "cell_type": "markdown",
   "metadata": {},
   "source": [
    "We can also check to see if a particular letter or string of letters is contained in our string:"
   ]
  },
  {
   "cell_type": "code",
   "execution_count": null,
   "metadata": {
    "collapsed": true
   },
   "outputs": [],
   "source": [
    "search_letter = 'A'\n",
    "\n",
    "if search_letter in my_name:\n",
    "    print('We found the letter', search_letter, 'in your name')\n",
    "else:\n",
    "    print('Your name does not contain the letter', search_letter)\n",
    "    \n",
    "## notice that string searching is CASE SENSITIVE.\n"
   ]
  },
  {
   "cell_type": "markdown",
   "metadata": {},
   "source": [
    "**How might this function be useful to geneticists?**  (hint: Think about last week's activities.)"
   ]
  },
  {
   "cell_type": "code",
   "execution_count": null,
   "metadata": {
    "collapsed": true
   },
   "outputs": [],
   "source": [
    "## Let's take a DNA sequence for example:\n",
    "\n",
    "dna1 = \"TTTAGTTTTTGCAGGATTGCCTCTAACACTGATGATATTCCACTCATATTCTTCCTGCAC\\\n",
    "ATGCCTTCTCATACTAACAGTAAGTCACACAATCTCAAATAAGTTTCATTATACATGAGA\\\n",
    "ACTCAGTTGAATGCTTGCCTTTCACTGGCATCTCTTGATCCTCCTCCCCCTCCTTATGGT\\\n",
    "ATGCACTGAACTTCTAGTAGGCCATATGTGTTAAGTAGATCATAGGAGTGCTATGAAAAT\\\n",
    "AAAGTGAAATGATGAATATGTAAAAGCCTTCACAAAATTATAGTAGTGTTTTCTGTTGAT\\\n",
    "TTTTAAGACAAAAGATAAATACTATGTATGTAAAAATTTCCTTTCAGAAATCTTTGTTCT\\\n",
    "TTTTTTTGTTTTGAATGTTCAATATGCTTAGCACAGGGCTCTAGTTAACACTTTTGGCAG\\\n",
    "TTCTTAATGTGGGACTGACTGATGATTGTCCTAGAACTGTTTCAGTGTTAACTACATTCT\\\n",
    "ATTAATGTTACTTTAAAACATTATTTAATTAAAGAAACATGAAGTGGCAACATACTGATT\\\n",
    "CATGTGTTCAGTAAGCAATTCATGGGAAAGAGGTAAGCTTTCTTAATAACAGTAGAAAGA\\\n",
    "CTGTTCCATTTATAGGAAAACTGGTAATTATGACTTGTGTTTTGGTATTTAAAAGCTGTG\\\n",
    "GTTGGCCGGGCGCAGTGGCTCACGCCTGTAATCCCAGCACTTTGAAAGGCCCTGGCGGGT\\\n",
    "GGATCATGAGGTCAGGAGATTGAGACCATCCTGGCCAACATGGTGAAACCCCGTCTCTAC\\\n",
    "TAAATATACAAAAAATTAGCTGGGCCTGGTGGCATGTGCCTGTAATCCCAGCTACTCTGG\\\n",
    "AGGCTGAGGCAAGAGAATCGCTTCAATCAGGGAGTCGGAGGTTGCAGTGAGCCAAGATCG\\\n",
    "CGCCACTGCACTCCAGCCTGGCTACAGAGCGAGACTCTGTCTCACAAAAAAAAAAAAAAA\\\n",
    "AAAAAAAAAAAAAAAGCTGTGATTAACATTTGCTTTGTCATTCATCCAAAACTACATTGG\\\n",
    "TGACTTTTGTATTGAGTCATTTCTTAGGGCAACAGGTATTCATGTATTCAGTAAATATTT\\\n",
    "GAGTGCCTACTATATGCCAGGTAGTGATCTAGGTGCTTAGTAGTACACTTGAAAACAAAA\\\n",
    "CAAAGGTCTCTACCCTTATGTAGCTGCTGTCCAGTGGAGGGGTGTGTGTGTATTGGGGGA\\\n",
    "TGGGGCTGAGAAACCTTAGACATACAGAAAGGAAATTATGTAGTATGTTCAAAGGTAATA\\\n",
    "AGTGCTGTGGAGCAATGAAAGTTAAACAGTTTAGGGCTGGGATGGGGGTAGGTAGCAATT\\\n",
    "TAAATAGGGAGGTCAGGGTAGGCCTCACTTGAGAAGGGGGTATTTGAACAAAAATTTGAG\\\n",
    "AAAGGAGGAGGAGGCATTTCAGATAAACCAATTAGTTCAAAGATTCTGTGTCGGGAATGT\\\n",
    "GCCTTGCCTATTTAAGAAACAGCAGGAGGCCAAAGTTGCTGGGGCAAGGTAGAGACTAGG\\\n",
    "GGATTAGGGAAGGATCTCTTTCAGTTATCTAGGCCATATTGGTGATAGCAGAAATACTGA\\\n",
    "GAAGTAGTCAGATTTTGGATGTTTTGAAAGTAGATTCATCGGGGCTTGGTGGCTCACGCC\\\n",
    "TGTAATCCCAGCACTTTGGGAGGCCGAGGCGGGCAGATCACCCGAGGTGAGGAGTTCGAG\\\n",
    "ACCAGCCTGACCAACATGGTGAAACCCTGTCTCTACTAAAAATACAAAAATTAGGTGAAA\\\n",
    "TATTGAAGGAGATGTTTTGATTGAAGTGATTTTAAGAGAGAAGAGGAGGGGAAGTAAAGA\\\n",
    "TGGTGAGGAATTATCCTGTAAAGGGGAACAGAGAAATGGGGCCAGAGCTAGTGAGGAAAG\\\n",
    "TGGGGTCAATAAATTTTTAATGATAAGAAAAAGAAGAGCGTATGATGATAGGAATGAGCC\\\n",
    "ATTAGAGAGTAAAACGTTTCAGGAGGGAGAGAGAAGAATTGCTGAAGCACTGTCTTAGAA\"\n",
    "\n",
    "\n",
    "## how long do you think this DNA sequence is?\n",
    "dnalength = len(dna1)\n",
    "\n",
    "print('The length of dna1 is', dnalength, 'basepairs.')\n",
    "\n",
    "## here are some other functions of the string class, go nuts!\n",
    "# .upper()\n",
    "max(dna1)\n",
    "type(dna1)"
   ]
  },
  {
   "cell_type": "markdown",
   "metadata": {},
   "source": [
    "You can see that computers do things that would take humans much **much** longer to do.\n",
    "\n",
    "Can we use a program to find start codons?"
   ]
  },
  {
   "cell_type": "code",
   "execution_count": null,
   "metadata": {
    "collapsed": true
   },
   "outputs": [],
   "source": [
    "if 'ATG' in dna1:\n",
    "    print('Your DNA sequence contains an ATG codon')\n",
    "    ## Python even has a function to tell you at which index position your substring is!\n",
    "    start_pos = dna1.find('ATG')\n",
    "    print('The ATG sequence occurs at position {}'.format(start_pos))\n",
    "else:\n",
    "    print('No ATG codon detected.')\n",
    "    \n",
    "## modify the code so the output of "
   ]
  },
  {
   "cell_type": "markdown",
   "metadata": {},
   "source": [
    "# Functions!\n",
    "\n",
    "You've written code now that takes a DNA sequence, finds out how long that sequence is, and identifies if a start codon is present within that length of DNA, and returns the start position.  Pretty cool, huh!?\n",
    "Now what if we wanted to do that analysis on 20 different DNA sequences?  It'd be a pain to write that code 20 times using a different DNA sequence each time, so let's write a function that we can reuse for each DNA sequence we want!\n",
    "\n",
    "Functions need to be defined using `def` command.  You then give your function a name, and the input that your function will require  (remember some of the string operations we used?  Those were all functions!  eg: `len()`)\n",
    "\n",
    "We can simply copy our working code from above into the new function, but replace our specific DNA sequence with a generic variable that the function uses."
   ]
  },
  {
   "cell_type": "code",
   "execution_count": null,
   "metadata": {
    "collapsed": true
   },
   "outputs": [],
   "source": [
    "## define a new function\n",
    "\n",
    "def newfunc(argument1, argument2):\n",
    "    print('the first argument entered was:',argument1)\n",
    "    print('the second argument enterd was:', argument2)\n",
    "    \n",
    "## execute the function, make sure to give the function the correct number of arguments!!\n",
    "\n",
    "newfunc('hey', 3)\n",
    "    "
   ]
  },
  {
   "cell_type": "code",
   "execution_count": null,
   "metadata": {
    "collapsed": true
   },
   "outputs": [],
   "source": [
    "%%writefile dna_analyze.py\n",
    "## we can write this new function to a file, so we can use it in other notebooks!\n",
    "\n",
    "## define a new function\n",
    "def dna_analyze(seq):\n",
    "    # The new function has the name \"dna_analyze\" and requires the input of a sequence, named 'seq'\n",
    "    dnalength = len(seq)\n",
    "    print('The length of dna1 is {} basepairs.'.format(dnalength))\n",
    "    if 'ATG' in seq:\n",
    "        print('Your DNA sequence contains a start codon')\n",
    "        start_pos = seq.find('ATG')\n",
    "        print('The coding sequence starts at position {}'.format(start_pos))\n",
    "    else:\n",
    "        print('No start codon detected.')\n",
    "    "
   ]
  },
  {
   "cell_type": "markdown",
   "metadata": {},
   "source": [
    "Notice that the only change made to the code is replacing our original `dna1` variable with a generic variable called `seq`\n",
    "\n",
    "Also notice that executing the `def` block of code didn't result in any output...  \n",
    "In order to see any output from a function, you must call that function.  Let's that now, using our `dna1` sequence as a test."
   ]
  },
  {
   "cell_type": "code",
   "execution_count": null,
   "metadata": {
    "collapsed": true
   },
   "outputs": [],
   "source": [
    "dna_analyze(dna1)"
   ]
  },
  {
   "cell_type": "markdown",
   "metadata": {},
   "source": [
    "Pretty cool, huh?!  We can now easily find the lenght of any DNA sequence, and if that sequence contains a start codon.  Try running our new function on these other DNA sequences:\n"
   ]
  },
  {
   "cell_type": "code",
   "execution_count": null,
   "metadata": {
    "collapsed": true
   },
   "outputs": [],
   "source": [
    "dna2 = \"TTAGGTGCTAGGAGTAAAACTGATCAAGTGGGGTAAGTTCCAAATTCACAGAGCGCACAGTCCTAACAGGCTGTCATGCCTCAGTTGTTTATTTGTGACAGTGTTTCCCACAGACTTTTAATTTTGGAATGATAGGATGTGGTGCTCTGGAATGGTGTCCCAGGGTTTTGGAGAACTGAGAGTAACCTGGGAAAGCAGGTTACAGTGAGAGAAAGTTATGACCAGGAGTTGTACCAAAACGCAGGAAACATGATATGTATATTGTTATGGTGCATAAAAATACTTACAATTAAAAGTCCTGAACCTACACTACATCTATTGTTTCACATATTTTCCTTCAATTTAAATCCTGCTCCAAATACAGCTCCTTTCCGAAAATTCAGTTTTATGTGACAGAAATTTGATCTGTTTCACTGAAAACCCATTTGAATAGTAATTGTGAGCAATTGTTGAATTTGTAAATGTTACGTAAATTTAGTGGATGACTTTGTGGACAGTTTGACGTTATGGACAGTTATTCTTGATACTGTTTCCCCTCCTTTCCCCTGCCATCCCTGAAACTTTAGGGCTTAATCTGCTTTTAATTAGCCAGAAAAAAATGTTTGATCCTCTTATTCAGTTTTAGATTATTTTAGATGATTTCTAAGTTAAACTCTAAGTTAGAATAGTTTCTGCTTATTGATTTCATGAATATCACTTCTCTATTTCTACT\"\n",
    "dna3 = \"CCACGCGTCCGAAGATTGCTAGCGAGCTAACAGTTAACGTTACCCCAGTAGTATCTGTGCACACAGGGGCATAAAGTAGTATCTGTGCACACAGGGGCATAAAAAATTAAGAGTGCTAGCAGTAGTATCTGTGCACACAGGGGCATAAAAGAG\"\n",
    "dna4 = \"CCACGCGTCCGAAACAAAGCGGATTGCTAGCGAGCTAACAGTTAACGTTACCCCAGTAGTATCTGTGCACACAGGGGCATAAAATTAAGAGTGCGATTAGGGGATGTTTTAAAAACCGTGCGCACAGTCAGGGTTTAATTAGATGTTTCTTTCTGCATTATGTGCAATTTTATAGTTTTAATGCATCGTATGTAATAGCTAACTGGTTAGCCCTCAGTGAGACAGCTTTGATTCGAGGGAGCAAAATGAAACTAAACTATAATGGTCCGCGTTGTAAGTGATAGTTCAATAATTAAGCGATGTGACGTTATCTTAGCTGACCAGCTTTGTTTTATTTTGACGTTATTATCATGTAATAACCAAACAAAATGAATGTACACATCTTTACGAGTCACTCAGATAGTCAAATAATAGCGTGTTAGTAGATAACGGGTTGATTAAACATACAAAGAGGAGGCGTTAAGTGCTAACGTTAGTAATCAGCTAACTTAAAACGACTGTCATGAAAAAATAAACCCCAGTGAAAGCATTTAGGGGGGAAATGTTCAATCTGATGGCGAACTGTTGCAACTGGTTGAAACGATGGAGAGAACCTGCAAGGAAGGTGACATTAGTAATGGTGGGATTGGACAATGCTGGAAAAACGGCGACAGTCAGAGGAATCCAGGGAGAAAGCCCTTTAGATGTAGCACCTACAGTGGGCTTTTCAAAGGTGGACCTGAAGCAGGGAAAGTTTGAGGTCACAATCTTTGACCTGGGTGGCGGGAAGCGTATTCGTGGCATTTGGAAAAACTACTACTCTGAATCTTATGGAGTGGTGTTTGTTGTGGACTCCAGTGATGTCCAGAGAATCCAGGAGACCAGAGACACCATGGCTGAGGTTCTCCGGCATCCTCGTATTGCAGGCAAACCTGTCTTAGTACTGGCTAATAAACAGGACCAAGATGGGGCAATGGCTGAAGCAGATATCATTGAGACCCTGTCATTGGAGAAGCTAGTCAACGAGAATAAATGCCTTTGCCAGATTGAGCCCTGTTCAGCTGTCTTGGGTTATGGTAAAAAGGTTGACAAATCCATCAAAAATGGCCTTAACTGGCTCCTAAATAACATTGCCAAGGACTATGAGGCAATTTCAGAACGTGTGCAAAAAGATACAGCCGAACAGAAGGCTCAGGAAGAACAAGACAAGAAAGAAAGAGCAGAGAGAGTTCGGCGGATCAGAGAAGAGAGAGACCGACAGGAACGGGAGGAAGCAGAGCGAGAAGGAAGGACATTAAAAGAGGAAGAGCTAGATGATGTCAACATGTTCAACCCCTTTCAACCAATAAACAATGTTTTGACTGAGAACCAAGACAGACTAAACAGAGAAAAAGAGATGCAAAGACAGAGGGAAAATGGCCAGCAGGGCAGTGTGCAAGAACAGATAGCACTTCAAGATGAGGAGGAAGAAGAGGAAGATGAAGAGAGTGAGAGACAGACTCCAGAAAGCACAGAATCAGGAGCAGTGGACCAGACCAAAAAGAAAACTAGGAAACTACGGTTGAAACGCAAACACAGAGTCGACCCTCTTAGGATGGAAGAAGCAGCACCCAAAAGCCCCACGCCTCCTCCTCTGCCAGTTGGATGGGCAACTCCTAAAGTTTCTAGGCTCCCCAAACTTGAGCCTCTTGGAGATACAAGGCATTCTGATTTCTATGGCAAACCTCTCCCACCTGTAGCAATTCGGCAGAGGCCGAACAGCGATACTCATGATGTCATTTCCTAACACTACCTCTACTTCCCCAACCCCCCCTTCACTGGTTTACAGTTCTTAAGGTTCCCTGCCAATCAAAGTATTGTTTTGTTCTTATCTTCAAGCACGGGCAGTGTAGCAAGCTACGCAGATGTAATTGCCCATAAGAGAGGAACTTGATACCCAATCTGCATTCCCAGATGGATCACAAGAACTCCAGCAACCAGTGACTGATAGTCAGCAGATGGACATTCACTTCATGACATGTTCAGAAAACGTAGAATGGTTCAATATTTAGGATTTTGTTGAGCTGTTTGTTTTATCCAAATACTTTAAATCAGTATTAACAGACTTTTGAAATTAAGTATGTTTTTAATGCGTTGCAAAAATGCATTACAGACCTATTTTTTAAGATAACTGAAAAATATGTACATACAAAAAGTTTAAATTTGTGTACTTGAAATTGTTCTTCTGGTCCACATGCATACCTTATTATTCTGCGCATGTAATGTGCAATCGATTGTGACACAGTTTGCCTTTAAATGATCAGAAATGTTTCTTTTTTCTCTCTCAGCATATAGTTTCATACACTGTGCTGTCGTAATTTTGAGAATGACATTCATACTATCTAGTAGCACCAGCAACAGATACCGAGATCTTGATAAAGTGAACTTTTTGCATGAGATGTGAAACATTTTTCTACAAGCTCGTTATTGAGTTTTATTGTCACATTTGGTACATCATGCTGTATCAGGGAGGAAATGGTCATTGAACGATAATTTCATCAATTACTGATTTAAATATATTCCACTGTAGTTGTAACACGGCTCAACCTGTATTACGTATACTGTTGGACGCTGCTTTCAGATTTATTTTATGCTGTTACAGTTTTTTTTTATTGTTTCAGTTTGTTGGATGTTTTGTATTTTACACCACACACTAATGTTTAGTTGATGAAAATTCTGATGTCATCCATTTTGCTCTGCTTTAAGTACTTGCGCCTTTTGTACTCGGTTTACATTTAATCTAACTGTCAAATAAATAAAAGATATTTTTACTCTGCAAAAAAAAAAAAA\"\n",
    "\n",
    "dna_analyze(dna2)\n",
    "## analyze the remaining DNA sequences\n",
    "\n"
   ]
  },
  {
   "cell_type": "markdown",
   "metadata": {},
   "source": [
    "****\n",
    "1. Which DNA sequence is the longest?\n",
    "2. Do all the sequences have start codons?"
   ]
  },
  {
   "cell_type": "markdown",
   "metadata": {},
   "source": [
    "Let's begin by importing a module that is contained in Python's standard library.  The standard library is a collection of useful, curated modules that come standard with most installations of Python.\n"
   ]
  },
  {
   "cell_type": "markdown",
   "metadata": {},
   "source": [
    "## Import statements\n",
    "\n",
    "Import statements are usually found at the beginning of a program, and need to be executed BEFORE any of the module's functions are used in the body of the code.\n",
    "\n",
    "The module we will attempt to use is the `time` module:"
   ]
  },
  {
   "cell_type": "code",
   "execution_count": null,
   "metadata": {
    "collapsed": true
   },
   "outputs": [],
   "source": [
    "import time"
   ]
  },
  {
   "cell_type": "markdown",
   "metadata": {},
   "source": [
    "Now that we've imported the `time` module, we can use the functions defined in that module by specifying where that function 'lives'\n",
    "\n",
    "For example, the `time` module contains a function called `sleep()` which simply causes the program to pause for a defined number of seconds before continuing down the program.  \n",
    "\n",
    "Try it out!"
   ]
  },
  {
   "cell_type": "code",
   "execution_count": null,
   "metadata": {
    "collapsed": true
   },
   "outputs": [],
   "source": [
    "# without sleeping\n",
    "\n",
    "print('begin program.')\n",
    "x = 'hello world!'\n",
    "print(x)\n",
    "print('end program.')"
   ]
  },
  {
   "cell_type": "code",
   "execution_count": null,
   "metadata": {
    "collapsed": true
   },
   "outputs": [],
   "source": [
    "# with sleeping\n",
    "\n",
    "print('begin program.')\n",
    "x = 'hello world!'\n",
    "print(x)\n",
    "time.sleep(5)  # program should wait 5 seconds before continuing\n",
    "print('end program.')"
   ]
  },
  {
   "cell_type": "markdown",
   "metadata": {},
   "source": [
    "Notice that in order to call the sleep function we had to reference the module beforehand using a '`.`' between; simply calling the `sleep()` function without telling the computer where to find that function results in an error:\n"
   ]
  },
  {
   "cell_type": "code",
   "execution_count": null,
   "metadata": {
    "collapsed": true
   },
   "outputs": [],
   "source": [
    "# with sleeping\n",
    "\n",
    "print('begin program.')\n",
    "x = 'hello world!'\n",
    "print(x)\n",
    "sleep(5)  # program should wait 5 seconds before continuing\n",
    "print('end program.')"
   ]
  },
  {
   "cell_type": "markdown",
   "metadata": {},
   "source": [
    "The computer is telling us that we have not defined anything using the name 'sleep'!"
   ]
  },
  {
   "cell_type": "markdown",
   "metadata": {},
   "source": [
    "## the random module "
   ]
  },
  {
   "cell_type": "code",
   "execution_count": null,
   "metadata": {
    "collapsed": true
   },
   "outputs": [],
   "source": [
    "import random"
   ]
  },
  {
   "cell_type": "markdown",
   "metadata": {},
   "source": [
    "# TEST STUFF BELOW THIS LINE"
   ]
  },
  {
   "cell_type": "markdown",
   "metadata": {},
   "source": [
    "\n",
    "## Central Dogma!!\n",
    "\n",
    "1. ** What is the complimentary sequence of this single strand of DNA?**  (you need the complimentary strand to use as the RNA template!)\n",
    "\n",
    "2. **What is the mRNA sequence of this DNA sequence** (remember, there is no thymine in RNA)\n",
    "\n",
    "3. **Will `dna1` produce a protein?** (hint: what two things do you need to generate a protein?)"
   ]
  },
  {
   "cell_type": "code",
   "execution_count": null,
   "metadata": {
    "collapsed": true
   },
   "outputs": [],
   "source": [
    "## Generate complimentary sequence\n",
    "\n",
    "comp_dict = {\n",
    "    'A':'T',\n",
    "    'T':'A',\n",
    "    'C':'G',\n",
    "    'G':'C'\n",
    "}\n",
    "\n",
    "## start the complimentary sequence as an empty list\n",
    "comp_seq = []\n",
    "\n",
    "for nucleotide in dna1:\n",
    "    comp_seq.append(comp_dict[nucleotide])\n",
    "    \n",
    "print()"
   ]
  },
  {
   "cell_type": "code",
   "execution_count": null,
   "metadata": {
    "collapsed": true
   },
   "outputs": [],
   "source": [
    "name = input(\"What is your name? \")\n"
   ]
  },
  {
   "cell_type": "code",
   "execution_count": null,
   "metadata": {
    "collapsed": true
   },
   "outputs": [],
   "source": [
    "print(name)"
   ]
  },
  {
   "cell_type": "code",
   "execution_count": null,
   "metadata": {
    "collapsed": true
   },
   "outputs": [],
   "source": [
    "import requests, sys\n",
    " \n",
    "server = \"https://rest.ensembl.org\"\n",
    "ext = \"/sequence/id/ENSG00000157764?\"\n",
    " \n",
    "r = requests.get(server+ext, headers={ \"Content-Type\" : \"text/x-fasta\"})\n",
    " \n",
    "if not r.ok:\n",
    "  r.raise_for_status()\n",
    "  sys.exit()\n",
    " \n",
    " \n",
    "print(r.text)"
   ]
  },
  {
   "cell_type": "code",
   "execution_count": null,
   "metadata": {
    "collapsed": true
   },
   "outputs": [],
   "source": [
    "    codon2aa = {\"AAA\":\"K\", \"AAC\":\"N\", \"AAG\":\"K\", \"AAU\":\"N\", \n",
    "                \"ACA\":\"T\", \"ACC\":\"T\", \"ACG\":\"T\", \"ACU\":\"T\", \n",
    "                \"AGA\":\"R\", \"AGC\":\"S\", \"AGG\":\"R\", \"AGU\":\"S\", \n",
    "                \"AUA\":\"I\", \"AUC\":\"I\", \"AUG\":\"M\", \"AUU\":\"I\", \n",
    "\n",
    "                \"CAA\":\"Q\", \"CAC\":\"H\", \"CAG\":\"Q\", \"CAU\":\"H\", \n",
    "                \"CCA\":\"P\", \"CCC\":\"P\", \"CCG\":\"P\", \"CCU\":\"P\", \n",
    "                \"CGA\":\"R\", \"CGC\":\"R\", \"CGG\":\"R\", \"CGU\":\"R\", \n",
    "                \"CUA\":\"L\", \"CUC\":\"L\", \"CUG\":\"L\", \"CUU\":\"L\", \n",
    "\n",
    "                \"GAA\":\"E\", \"GAC\":\"D\", \"GAG\":\"E\", \"GAU\":\"D\", \n",
    "                \"GCA\":\"A\", \"GCC\":\"A\", \"GCG\":\"A\", \"GCU\":\"A\", \n",
    "                \"GGA\":\"G\", \"GGC\":\"G\", \"GGG\":\"G\", \"GGU\":\"G\", \n",
    "                \"GUA\":\"V\", \"GUC\":\"V\", \"GUG\":\"V\", \"GUU\":\"V\", \n",
    "\n",
    "                \"UAA\":\"_\", \"UAC\":\"Y\", \"UAG\":\"_\", \"UAU\":\"T\", \n",
    "                \"UCA\":\"S\", \"UCC\":\"S\", \"UCG\":\"S\", \"UCU\":\"S\", \n",
    "                \"UGA\":\"_\", \"UGC\":\"C\", \"UGG\":\"W\", \"UGU\":\"C\", \n",
    "                \"UUA\":\"L\", \"UUC\":\"F\", \"UUG\":\"L\", \"UUU\":\"F\"}"
   ]
  },
  {
   "cell_type": "code",
   "execution_count": null,
   "metadata": {
    "collapsed": true
   },
   "outputs": [],
   "source": [
    "i = input(\"Enter 3 nucleotides from your mRNA sequence: \").upper()\n",
    "if i in codon2aa:\n",
    "    print(codon2aa[i])"
   ]
  },
  {
   "cell_type": "code",
   "execution_count": null,
   "metadata": {
    "collapsed": true
   },
   "outputs": [],
   "source": []
  }
 ],
 "metadata": {
  "kernelspec": {
   "display_name": "Python 3",
   "language": "python",
   "name": "python3"
  },
  "language_info": {
   "codemirror_mode": {
    "name": "ipython",
    "version": 3
   },
   "file_extension": ".py",
   "mimetype": "text/x-python",
   "name": "python",
   "nbconvert_exporter": "python",
   "pygments_lexer": "ipython3",
   "version": "3.4.5"
  }
 },
 "nbformat": 4,
 "nbformat_minor": 2
}
