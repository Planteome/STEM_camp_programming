{
 "cells": [
  {
   "cell_type": "markdown",
   "metadata": {},
   "source": [
    "# Comparison, looping, and plotting output\n",
    "\n"
   ]
  },
  {
   "cell_type": "markdown",
   "metadata": {},
   "source": [
    "## loops\n",
    "\n",
    "A lot of times we use computer programs to simplify, or speed up a task that is repetitive, or tedious to do by hand (remember translating RNA to protein, or finding START codons?)\n",
    "\n",
    "In order to do these things over and over and OVER, we use something called a 'loop'\n"
   ]
  },
  {
   "cell_type": "code",
   "execution_count": 2,
   "metadata": {},
   "outputs": [
    {
     "name": "stdout",
     "output_type": "stream",
     "text": [
      "2\n",
      "4\n",
      "6\n",
      "8\n",
      "10\n",
      "12\n",
      "14\n"
     ]
    }
   ],
   "source": [
    "# start with a list\n",
    "x = [1,2,3,4,5,6,7]\n",
    "\n",
    "# define a looping function:\n",
    "def times2(listofnumbers):\n",
    "    for number in listofnumbers:\n",
    "        print(number*2)\n",
    "        \n",
    "# call that function on our list\n",
    "times2(x)"
   ]
  },
  {
   "cell_type": "markdown",
   "metadata": {
    "collapsed": true
   },
   "source": [
    "# Biopython!\n",
    "\n",
    "Biopython is a library that contains lots of functions relevant to biology and genetic computations."
   ]
  },
  {
   "cell_type": "code",
   "execution_count": 5,
   "metadata": {
    "collapsed": true
   },
   "outputs": [],
   "source": [
    "from Bio.Alphabet import generic_dna\n",
    "from Bio.Seq import Seq\n",
    "from Bio.SeqRecord import SeqRecord\n",
    "from Bio.Align import MultipleSeqAlignment\n",
    "\n",
    "align1 = MultipleSeqAlignment([\n",
    "             SeqRecord(Seq(\"ACTGCTAGCTAG\", generic_dna), id=\"Alpha\"),\n",
    "             SeqRecord(Seq(\"ACTCTA-GCTAG\", generic_dna), id=\"Beta\"),\n",
    "             SeqRecord(Seq(\"ACTGCTAGDTAG\", generic_dna), id=\"Gamma\"),\n",
    "         ])\n",
    "\n",
    "my_alignments = [align1]"
   ]
  },
  {
   "cell_type": "code",
   "execution_count": 6,
   "metadata": {},
   "outputs": [
    {
     "name": "stdout",
     "output_type": "stream",
     "text": [
      "DNAAlphabet() alignment with 3 rows and 12 columns\n",
      "ACTGCTAGCTAG Alpha\n",
      "ACTCTA-GCTAG Beta\n",
      "ACTGCTAGDTAG Gamma\n"
     ]
    }
   ],
   "source": [
    "print(align1)"
   ]
  },
  {
   "cell_type": "code",
   "execution_count": 7,
   "metadata": {},
   "outputs": [
    {
     "data": {
      "text/plain": [
       "1"
      ]
     },
     "execution_count": 7,
     "metadata": {},
     "output_type": "execute_result"
    }
   ],
   "source": [
    "from Bio import AlignIO\n",
    "AlignIO.write(my_alignments, \"my_example.phy\", \"phylip\")"
   ]
  },
  {
   "cell_type": "code",
   "execution_count": 12,
   "metadata": {},
   "outputs": [
    {
     "data": {
      "text/plain": [
       "['ClustalOmegaCommandline',\n",
       " 'ClustalwCommandline',\n",
       " 'DialignCommandline',\n",
       " 'MSAProbsCommandline',\n",
       " 'MafftCommandline',\n",
       " 'MuscleCommandline',\n",
       " 'PrankCommandline',\n",
       " 'ProbconsCommandline',\n",
       " 'TCoffeeCommandline',\n",
       " '_ClustalOmega',\n",
       " '_Clustalw',\n",
       " '_Dialign',\n",
       " '_MSAProbs',\n",
       " '_Mafft',\n",
       " '_Muscle',\n",
       " '_Prank',\n",
       " '_Probcons',\n",
       " '_TCoffee',\n",
       " '__all__',\n",
       " '__builtins__',\n",
       " '__cached__',\n",
       " '__doc__',\n",
       " '__file__',\n",
       " '__loader__',\n",
       " '__name__',\n",
       " '__package__',\n",
       " '__path__',\n",
       " '__spec__']"
      ]
     },
     "execution_count": 12,
     "metadata": {},
     "output_type": "execute_result"
    }
   ],
   "source": [
    "import Bio.Align.Applications\n",
    "from Bio.Align.Applications import ClustalwCommandline\n",
    "dir(Bio.Align.Applications)"
   ]
  },
  {
   "cell_type": "code",
   "execution_count": 13,
   "metadata": {},
   "outputs": [
    {
     "name": "stdout",
     "output_type": "stream",
     "text": [
      "Help on class ClustalwCommandline in module Bio.Align.Applications._Clustalw:\n",
      "\n",
      "class ClustalwCommandline(Bio.Application.AbstractCommandline)\n",
      " |  Command line wrapper for clustalw (version one or two).\n",
      " |  \n",
      " |  http://www.clustal.org/\n",
      " |  \n",
      " |  Example:\n",
      " |  --------\n",
      " |  \n",
      " |  >>> from Bio.Align.Applications import ClustalwCommandline\n",
      " |  >>> in_file = \"unaligned.fasta\"\n",
      " |  >>> clustalw_cline = ClustalwCommandline(\"clustalw2\", infile=in_file)\n",
      " |  >>> print(clustalw_cline)\n",
      " |  clustalw2 -infile=unaligned.fasta\n",
      " |  \n",
      " |  You would typically run the command line with clustalw_cline() or via\n",
      " |  the Python subprocess module, as described in the Biopython tutorial.\n",
      " |  \n",
      " |  Citation:\n",
      " |  ---------\n",
      " |  \n",
      " |  Larkin MA, Blackshields G, Brown NP, Chenna R, McGettigan PA,\n",
      " |  McWilliam H, Valentin F, Wallace IM, Wilm A, Lopez R, Thompson JD,\n",
      " |  Gibson TJ, Higgins DG. (2007). Clustal W and Clustal X version 2.0.\n",
      " |  Bioinformatics, 23, 2947-2948.\n",
      " |  \n",
      " |  Last checked against versions: 1.83 and 2.1\n",
      " |  \n",
      " |  Method resolution order:\n",
      " |      ClustalwCommandline\n",
      " |      Bio.Application.AbstractCommandline\n",
      " |      builtins.object\n",
      " |  \n",
      " |  Methods defined here:\n",
      " |  \n",
      " |  __init__(self, cmd='clustalw', **kwargs)\n",
      " |      # TODO - Should we default to cmd=\"clustalw2\" now?\n",
      " |  \n",
      " |  ----------------------------------------------------------------------\n",
      " |  Methods inherited from Bio.Application.AbstractCommandline:\n",
      " |  \n",
      " |  __call__(self, stdin=None, stdout=True, stderr=True, cwd=None, env=None)\n",
      " |      Execute command, wait for it to finish, return (stdout, stderr).\n",
      " |      \n",
      " |      Runs the command line tool and waits for it to finish. If it returns\n",
      " |      a non-zero error level, an exception is raised. Otherwise two strings\n",
      " |      are returned containing stdout and stderr.\n",
      " |      \n",
      " |      The optional stdin argument should be a string of data which will be\n",
      " |      passed to the tool as standard input.\n",
      " |      \n",
      " |      The optional stdout and stderr argument may be filenames (string),\n",
      " |      but otherwise are treated as a booleans, and control if the output\n",
      " |      should be captured as strings (True, default), or ignored by sending\n",
      " |      it to /dev/null to avoid wasting memory (False). If sent to a file\n",
      " |      or ignored, then empty string(s) are returned.\n",
      " |      \n",
      " |      The optional cwd argument is a string giving the working directory\n",
      " |      to run the command from. See Python's subprocess module documentation\n",
      " |      for more details.\n",
      " |      \n",
      " |      The optional env argument is a dictionary setting the environment\n",
      " |      variables to be used in the new process. By default the current\n",
      " |      process' environment variables are used. See Python's subprocess\n",
      " |      module documentation for more details.\n",
      " |      \n",
      " |      Default example usage::\n",
      " |      \n",
      " |          from Bio.Emboss.Applications import WaterCommandline\n",
      " |          water_cmd = WaterCommandline(gapopen=10, gapextend=0.5,\n",
      " |                                       stdout=True, auto=True,\n",
      " |                                       asequence=\"a.fasta\", bsequence=\"b.fasta\")\n",
      " |          print(\"About to run: %s\" % water_cmd)\n",
      " |          std_output, err_output = water_cmd()\n",
      " |      \n",
      " |      This functionality is similar to subprocess.check_output() added in\n",
      " |      Python 2.7. In general if you require more control over running the\n",
      " |      command, use subprocess directly.\n",
      " |      \n",
      " |      As of Biopython 1.56, when the program called returns a non-zero error\n",
      " |      level, a custom ApplicationError exception is raised. This includes\n",
      " |      any stdout and stderr strings captured as attributes of the exception\n",
      " |      object, since they may be useful for diagnosing what went wrong.\n",
      " |  \n",
      " |  __repr__(self)\n",
      " |      Return a representation of the command line object for debugging.\n",
      " |      \n",
      " |      e.g.\n",
      " |      \n",
      " |      >>> from Bio.Emboss.Applications import WaterCommandline\n",
      " |      >>> cline = WaterCommandline(gapopen=10, gapextend=0.5)\n",
      " |      >>> cline.asequence = \"asis:ACCCGGGCGCGGT\"\n",
      " |      >>> cline.bsequence = \"asis:ACCCGAGCGCGGT\"\n",
      " |      >>> cline.outfile = \"temp_water.txt\"\n",
      " |      >>> print(cline)\n",
      " |      water -outfile=temp_water.txt -asequence=asis:ACCCGGGCGCGGT -bsequence=asis:ACCCGAGCGCGGT -gapopen=10 -gapextend=0.5\n",
      " |      >>> cline\n",
      " |      WaterCommandline(cmd='water', outfile='temp_water.txt', asequence='asis:ACCCGGGCGCGGT', bsequence='asis:ACCCGAGCGCGGT', gapopen=10, gapextend=0.5)\n",
      " |  \n",
      " |  __setattr__(self, name, value)\n",
      " |      Set attribute name to value (PRIVATE).\n",
      " |      \n",
      " |      This code implements a workaround for a user interface issue.\n",
      " |      Without this __setattr__ attribute-based assignment of parameters\n",
      " |      will silently accept invalid parameters, leading to known instances\n",
      " |      of the user assuming that parameters for the application are set,\n",
      " |      when they are not.\n",
      " |      \n",
      " |      >>> from Bio.Emboss.Applications import WaterCommandline\n",
      " |      >>> cline = WaterCommandline(gapopen=10, gapextend=0.5, stdout=True)\n",
      " |      >>> cline.asequence = \"a.fasta\"\n",
      " |      >>> cline.bsequence = \"b.fasta\"\n",
      " |      >>> cline.csequence = \"c.fasta\"\n",
      " |      Traceback (most recent call last):\n",
      " |      ...\n",
      " |      ValueError: Option name csequence was not found.\n",
      " |      >>> print(cline)\n",
      " |      water -stdout -asequence=a.fasta -bsequence=b.fasta -gapopen=10 -gapextend=0.5\n",
      " |      \n",
      " |      This workaround uses a whitelist of object attributes, and sets the\n",
      " |      object attribute list as normal, for these.  Other attributes are\n",
      " |      assumed to be parameters, and passed to the self.set_parameter method\n",
      " |      for validation and assignment.\n",
      " |  \n",
      " |  __str__(self)\n",
      " |      Make the commandline string with the currently set options.\n",
      " |      \n",
      " |      e.g.\n",
      " |      \n",
      " |      >>> from Bio.Emboss.Applications import WaterCommandline\n",
      " |      >>> cline = WaterCommandline(gapopen=10, gapextend=0.5)\n",
      " |      >>> cline.asequence = \"asis:ACCCGGGCGCGGT\"\n",
      " |      >>> cline.bsequence = \"asis:ACCCGAGCGCGGT\"\n",
      " |      >>> cline.outfile = \"temp_water.txt\"\n",
      " |      >>> print(cline)\n",
      " |      water -outfile=temp_water.txt -asequence=asis:ACCCGGGCGCGGT -bsequence=asis:ACCCGAGCGCGGT -gapopen=10 -gapextend=0.5\n",
      " |      >>> str(cline)\n",
      " |      'water -outfile=temp_water.txt -asequence=asis:ACCCGGGCGCGGT -bsequence=asis:ACCCGAGCGCGGT -gapopen=10 -gapextend=0.5'\n",
      " |  \n",
      " |  set_parameter(self, name, value=None)\n",
      " |      Set a commandline option for a program (OBSOLETE).\n",
      " |      \n",
      " |      Every parameter is available via a property and as a named\n",
      " |      keyword when creating the instance. Using either of these is\n",
      " |      preferred to this legacy set_parameter method which is now\n",
      " |      OBSOLETE, and likely to be DEPRECATED and later REMOVED in\n",
      " |      future releases.\n",
      " |  \n",
      " |  ----------------------------------------------------------------------\n",
      " |  Data descriptors inherited from Bio.Application.AbstractCommandline:\n",
      " |  \n",
      " |  __dict__\n",
      " |      dictionary for instance variables (if defined)\n",
      " |  \n",
      " |  __weakref__\n",
      " |      list of weak references to the object (if defined)\n",
      " |  \n",
      " |  ----------------------------------------------------------------------\n",
      " |  Data and other attributes inherited from Bio.Application.AbstractCommandline:\n",
      " |  \n",
      " |  parameters = None\n",
      "\n"
     ]
    }
   ],
   "source": [
    "help(ClustalwCommandline)"
   ]
  },
  {
   "cell_type": "code",
   "execution_count": 29,
   "metadata": {
    "collapsed": true
   },
   "outputs": [],
   "source": [
    "cline = ClustalwCommandline(\"/home/instructor1/STEM_camp_programming/clustalw-2.1/src/clustalw2\", infile=\"test.fasta\")"
   ]
  },
  {
   "cell_type": "code",
   "execution_count": 30,
   "metadata": {},
   "outputs": [
    {
     "name": "stdout",
     "output_type": "stream",
     "text": [
      "/home/instructor1/STEM_camp_programming/clustalw-2.1/src/clustalw2 -infile=test.fasta\n"
     ]
    }
   ],
   "source": [
    "print(cline)\n",
    "stdout, stderr = cline()"
   ]
  },
  {
   "cell_type": "code",
   "execution_count": 31,
   "metadata": {},
   "outputs": [],
   "source": [
    "from Bio import AlignIO\n",
    "align = AlignIO.read(\"test.aln\", \"clustal\")"
   ]
  },
  {
   "cell_type": "code",
   "execution_count": 33,
   "metadata": {},
   "outputs": [
    {
     "name": "stdout",
     "output_type": "stream",
     "text": [
      "SingleLetterAlphabet() alignment with 4 rows and 12 columns\n",
      "AAAAAAAAAAA- test1\n",
      "-AAAAAAAAAAT test2\n",
      "-AAAAAAAAAAC test3\n",
      "-AAAAAAAAAGG test4\n"
     ]
    }
   ],
   "source": [
    "print(align)\n"
   ]
  },
  {
   "cell_type": "code",
   "execution_count": null,
   "metadata": {
    "collapsed": true
   },
   "outputs": [],
   "source": []
  }
 ],
 "metadata": {
  "kernelspec": {
   "display_name": "Python 3",
   "language": "python",
   "name": "python3"
  },
  "language_info": {
   "codemirror_mode": {
    "name": "ipython",
    "version": 3
   },
   "file_extension": ".py",
   "mimetype": "text/x-python",
   "name": "python",
   "nbconvert_exporter": "python",
   "pygments_lexer": "ipython3",
   "version": "3.4.5"
  }
 },
 "nbformat": 4,
 "nbformat_minor": 2
}
