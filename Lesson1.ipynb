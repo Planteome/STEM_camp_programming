{
 "cells": [
  {
   "cell_type": "markdown",
   "metadata": {},
   "source": [
    "# Lesson 1: The basics of writing computer programs"
   ]
  },
  {
   "cell_type": "markdown",
   "metadata": {},
   "source": [
    "## What is a program?\n",
    "\n",
    "A program -- a.k.a software, application, app -- is a set of instructions on a computing device that accepts input (data), analyzes and/or modifies that input (processing), and provides output (also data).\n",
    "\n",
    "Broadly speaking, all activity on a digital computational device consists of \"programs\": operating systems, individual applications, your microwave's programmable timer, the display interface and individual games on XBox Live.\n",
    "\n",
    "* __Input examples:__ human-provided text, numbers, button selections (red/green, on/off), files containing data \n",
    "\n",
    "  * (_Input devices:_ keyboards, smartphone touchscreens, mice, file or data transfers from other computers over a network)\n",
    "\n",
    "\n",
    "* __Processing examples:__ calculations, decisions (this-or-that), sorting and grouping, transforming data from one form to another\n",
    "\n",
    "\n",
    "* __Output examples:__ text, numbers, graphics, statistical results, charts, video game environment and character response\n",
    "\n",
    "## In what ways are programs useful?\n",
    "\n",
    "* Computational speed: They can do stuff -- especially calculation -- faster than humans.\n",
    "* Consistency: Repeatable application of rules and systems to data.\n",
    "* Automated communication: Many programs can talk to each other without human intervention (i.e. web services)\n",
    "* Managing the storage of data: ...\n",
    "* Visualization: Can quickly render and display the results of complex data analyses "
   ]
  },
  {
   "cell_type": "code",
   "execution_count": 59,
   "metadata": {
    "collapsed": true
   },
   "outputs": [],
   "source": [
    "# full program here \n",
    "# write a quick script that follows basic program structure, declares some stuff (seq strings, \n",
    "# numbers representing length of sequence), prints out some stuff, and provides a bar graph via \n",
    "# a modifiable embedded function call (with parms)"
   ]
  },
  {
   "cell_type": "markdown",
   "metadata": {},
   "source": [
    "## Components of a program\n",
    "\n",
    "Programs are made up of statements, or instructions that tell the computer to do \"something\". Different programming languages have different ways of making these statements, but there are some common features across multiple languages, including Python:\n",
    "\n",
    "* Comments: Non-functional chunk of text; often used by the programmer to leave explanations and code documentation for other human readers.\n",
    "* Imports / Usage: bringing in references to other code for use\n",
    "* Declarations (setting variables, calling other chunks of code, \"commands\")\n",
    "* Control Flow (decisions: this-or-that, loops: repeat this chunk of code a certain number of times under certain conditions)\n"
   ]
  },
  {
   "cell_type": "markdown",
   "metadata": {},
   "source": [
    "## Comments\n"
   ]
  },
  {
   "cell_type": "code",
   "execution_count": 54,
   "metadata": {},
   "outputs": [
    {
     "name": "stdout",
     "output_type": "stream",
     "text": [
      "# This is not a comment\n"
     ]
    }
   ],
   "source": [
    "# This is a comment\n",
    "# This is not a comment - now it is\n",
    "# print(\"This is a comment\")\n",
    "print(\"# This is not a comment\")"
   ]
  },
  {
   "cell_type": "markdown",
   "metadata": {},
   "source": [
    "## Declarations and Variables\n",
    "\n",
    "Variables are exactly what they sound like: something that varies. Variables can be assigned via user input, or directly declared in the program. Variables point to a location in a computer's memory, and are used to store data.\n",
    "\n",
    "### Data types\n",
    "* Numbers (Integers, Floating Point Numbers)\n",
    "* Strings (including single characters)\n",
    "* Lists (of other variables)"
   ]
  },
  {
   "cell_type": "markdown",
   "metadata": {},
   "source": [
    "#### Numbers\n",
    "\n",
    "* Integers\n",
    "* Floating Point\n",
    "...there are others\n",
    "\n",
    "#### Strings\n",
    "Strings are text.  They are actually composed of a list of a single values.\n",
    "\n",
    "#### Lists\n",
    "A group of variable values, accessed by number position (known as an \"index\")."
   ]
  },
  {
   "cell_type": "code",
   "execution_count": 60,
   "metadata": {
    "collapsed": true
   },
   "outputs": [],
   "source": [
    "# variable declarations (integers)\n",
    "x = 1\n",
    "y = 2\n",
    "\n",
    "# ...then a demonstration of type incompatibility and type conversion"
   ]
  },
  {
   "cell_type": "code",
   "execution_count": 40,
   "metadata": {},
   "outputs": [
    {
     "name": "stdout",
     "output_type": "stream",
     "text": [
      "Wildfire smoke causes ennui.\n",
      "['s', 't', 'r', 'i', 'n', 'g']\n"
     ]
    }
   ],
   "source": [
    "my_string = \"Wildfire smoke causes ennui.\"\n",
    "print(my_string)\n",
    "my_not_a_string = ['s', 't', 'r', 'i', 'n', 'g']\n",
    "print(my_not_a_string)"
   ]
  },
  {
   "cell_type": "markdown",
   "metadata": {},
   "source": [
    "\n",
    "## Decisions and Loops: Controlling the flow of your program"
   ]
  },
  {
   "cell_type": "code",
   "execution_count": 64,
   "metadata": {},
   "outputs": [
    {
     "name": "stdout",
     "output_type": "stream",
     "text": [
      "Not ok: 2 = 1\n"
     ]
    }
   ],
   "source": [
    "if (x == 2):\n",
    "    print(\"ok\")\n",
    "elif (x == 0):\n",
    "    print(y)\n",
    "else:\n",
    "    print(\"Not ok: \" + str(y) + \" = \" + str(x))"
   ]
  },
  {
   "cell_type": "code",
   "execution_count": 45,
   "metadata": {},
   "outputs": [
    {
     "name": "stdout",
     "output_type": "stream",
     "text": [
      "2\n",
      "3\n",
      "4\n",
      "5\n",
      "6\n",
      "7\n",
      "8\n",
      "9\n",
      "10\n"
     ]
    }
   ],
   "source": [
    "x = 1\n",
    "while x < 10:\n",
    "    x += 1\n",
    "    print(x)"
   ]
  },
  {
   "cell_type": "markdown",
   "metadata": {},
   "source": [
    "## Indentation and whitespace in Python\n",
    "\n",
    "One important thing to note about Python is that blocks of code are grouped using indentation. Etc..."
   ]
  },
  {
   "cell_type": "code",
   "execution_count": 66,
   "metadata": {
    "collapsed": true
   },
   "outputs": [],
   "source": [
    "# exmaples of whitespace and indentation-related issues; use the good 'ol nested block error"
   ]
  },
  {
   "cell_type": "code",
   "execution_count": null,
   "metadata": {
    "collapsed": true
   },
   "outputs": [],
   "source": [
    "# Now modify the bar chart function call"
   ]
  }
 ],
 "metadata": {
  "kernelspec": {
   "display_name": "Python 3",
   "language": "python",
   "name": "python3"
  },
  "language_info": {
   "codemirror_mode": {
    "name": "ipython",
    "version": 3
   },
   "file_extension": ".py",
   "mimetype": "text/x-python",
   "name": "python",
   "nbconvert_exporter": "python",
   "pygments_lexer": "ipython3",
   "version": "3.6.1"
  }
 },
 "nbformat": 4,
 "nbformat_minor": 1
}
