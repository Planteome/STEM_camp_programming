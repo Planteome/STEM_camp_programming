{
 "cells": [
  {
   "cell_type": "markdown",
   "metadata": {},
   "source": [
    "# The basics of writing computer programs\n",
    "\n",
    "    code outline; \n",
    "    identify components of a program (vars/data types, statements, control)"
   ]
  },
  {
   "cell_type": "markdown",
   "metadata": {},
   "source": [
    "## What is a program?\n",
    "\n",
    "A program -- a.k.a software, application, app -- is a computational process on a computing device that accepts input (data), analyzes and/or modifies that input (processing), and provides output (also data). Broadly speaking, all activity on an computational device consists of \"programs\": operating systems, .\n",
    "\n",
    "Examples of input: human-provided data on input devices: keyboards, smartphone touchscreens, mice, file transfers from other computers over a network\n",
    "\n",
    "Examples of processing: calculations, decisions (this-or-that), sorting and grouping, transforming data from one form to another\n",
    "\n",
    "Examples of output: graphics, statistical results, charts, game response, tables of text\n",
    "\n",
    "## Components of a program\n",
    "\n",
    "Variables are exactly what they sound like:  Something that varies\n",
    "\n",
    "Variables can be assigned by a user:"
   ]
  },
  {
   "cell_type": "markdown",
   "metadata": {},
   "source": [
    "Variables point to a location in a computer's memory\n"
   ]
  },
  {
   "cell_type": "markdown",
   "metadata": {},
   "source": [
    "Variables are used to store data"
   ]
  },
  {
   "cell_type": "code",
   "execution_count": 4,
   "metadata": {
    "collapsed": true
   },
   "outputs": [],
   "source": [
    "x = 1\n",
    "y = 2"
   ]
  },
  {
   "cell_type": "markdown",
   "metadata": {},
   "source": [
    "data can be composed of different 'datatypes'\n",
    "In Python, there are 3 major data types:\n",
    "\n",
    "1. Strings\n",
    "\n",
    "2. Integers\n",
    "\n",
    "3. Floats\n",
    "\n"
   ]
  },
  {
   "cell_type": "markdown",
   "metadata": {},
   "source": [
    "# Strings\n",
    "\n",
    "Strings are text.  They are actually composed of a list of a single values"
   ]
  },
  {
   "cell_type": "code",
   "execution_count": null,
   "metadata": {
    "collapsed": true
   },
   "outputs": [],
   "source": [
    "'string' = [s, t, r, i, n, g]"
   ]
  },
  {
   "cell_type": "markdown",
   "metadata": {},
   "source": [
    "## Controlling the flow of your program"
   ]
  },
  {
   "cell_type": "code",
   "execution_count": 2,
   "metadata": {},
   "outputs": [
    {
     "name": "stdout",
     "output_type": "stream",
     "text": [
      "test\n"
     ]
    }
   ],
   "source": [
    "print(\"test\")"
   ]
  },
  {
   "cell_type": "code",
   "execution_count": null,
   "metadata": {
    "collapsed": true
   },
   "outputs": [],
   "source": []
  }
 ],
 "metadata": {
  "kernelspec": {
   "display_name": "Python 3",
   "language": "python",
   "name": "python3"
  },
  "language_info": {
   "codemirror_mode": {
    "name": "ipython",
    "version": 3
   },
   "file_extension": ".py",
   "mimetype": "text/x-python",
   "name": "python",
   "nbconvert_exporter": "python",
   "pygments_lexer": "ipython3",
   "version": "3.6.1"
  }
 },
 "nbformat": 4,
 "nbformat_minor": 2
}
