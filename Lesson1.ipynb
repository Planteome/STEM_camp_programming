{
 "cells": [
  {
   "cell_type": "markdown",
   "metadata": {},
   "source": [
    "# Lesson 1: The basics of writing computer programs\n",
    "\n",
    "    code outline; \n",
    "    identify components of a program (vars/data types, statements, control)"
   ]
  },
  {
   "cell_type": "markdown",
   "metadata": {},
   "source": [
    "## What is a program?\n",
    "\n",
    "A program -- a.k.a software, application, app -- is a set of instructions on a computing device that accepts input (data), analyzes and/or modifies that input (processing), and provides output (also data). Broadly speaking, all activity on an computational device consists of \"programs\": operating systems, individual applications, your microwave's programmable timer.\n",
    "\n",
    "Input examples: human-provided text, numbers, button selections (red/green, on/off), files containing data \n",
    "\n",
    "(Input devices: keyboards, smartphone touchscreens, mice, file or data transfers from other computers over a network)\n",
    "\n",
    "Processing examples: calculations, decisions (this-or-that), sorting and grouping, transforming data from one form to another\n",
    "\n",
    "Output examples: text, numbers, graphics, statistical results, charts, video game environment and character responses,\n",
    "\n",
    "## Components of a program\n",
    "\n",
    "Statements\n",
    "* Comments\n",
    "* Declarations (setting variables)\n",
    "* Decisions (choices)\n",
    "* Control Flow (loops)\n",
    "\n",
    "## Comments\n",
    "\n",
    "## Variables\n",
    "\n",
    "Variables are exactly what they sound like: something that varies. Variables can be assigned via user input, or directly declared in the program. Variables point to a location in a computer's memory, and are used to store data.\n",
    "\n",
    "### Data types\n",
    "* Numbers (Integers, Floating Point Numbers)\n",
    "* Strings (including single characters)\n",
    "* Lists (of other variables)\n",
    "\n",
    "## Decisions\n",
    "\n",
    "## Control Flow"
   ]
  },
  {
   "cell_type": "code",
   "execution_count": 4,
   "metadata": {
    "collapsed": true
   },
   "outputs": [],
   "source": [
    "x = 1\n",
    "y = 2"
   ]
  },
  {
   "cell_type": "markdown",
   "metadata": {},
   "source": [
    "data can be composed of different 'datatypes'\n",
    "In Python, there are 3 major data types:\n",
    "\n",
    "1. Strings\n",
    "\n",
    "2. Integers\n",
    "\n",
    "3. Floats\n",
    "\n"
   ]
  },
  {
   "cell_type": "markdown",
   "metadata": {},
   "source": [
    "# Strings\n",
    "\n",
    "Strings are text.  They are actually composed of a list of a single values"
   ]
  },
  {
   "cell_type": "code",
   "execution_count": null,
   "metadata": {
    "collapsed": true
   },
   "outputs": [],
   "source": [
    "'string' = [s, t, r, i, n, g]"
   ]
  },
  {
   "cell_type": "markdown",
   "metadata": {},
   "source": [
    "## Controlling the flow of your program"
   ]
  },
  {
   "cell_type": "code",
   "execution_count": 2,
   "metadata": {},
   "outputs": [
    {
     "name": "stdout",
     "output_type": "stream",
     "text": [
      "test\n"
     ]
    }
   ],
   "source": [
    "print(\"test\")"
   ]
  },
  {
   "cell_type": "code",
   "execution_count": 1,
   "metadata": {
    "collapsed": true
   },
   "outputs": [],
   "source": [
    "import numpy as np\n",
    "import matplotlib.pyplot as plt"
   ]
  },
  {
   "cell_type": "code",
   "execution_count": null,
   "metadata": {
    "collapsed": true
   },
   "outputs": [],
   "source": []
  }
 ],
 "metadata": {
  "kernelspec": {
   "display_name": "Python 3",
   "language": "python",
   "name": "python3"
  },
  "language_info": {
   "codemirror_mode": {
    "name": "ipython",
    "version": 3
   },
   "file_extension": ".py",
   "mimetype": "text/x-python",
   "name": "python",
   "nbconvert_exporter": "python",
   "pygments_lexer": "ipython3",
   "version": "3.6.1"
  }
 },
 "nbformat": 4,
 "nbformat_minor": 2
}
