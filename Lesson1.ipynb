{
 "cells": [
  {
   "cell_type": "markdown",
   "metadata": {},
   "source": [
    "# Lesson 1: The basics of writing computer programs"
   ]
  },
  {
   "cell_type": "markdown",
   "metadata": {},
   "source": [
    "## What is a program?\n",
    "\n",
    "A program -- a.k.a software, application, app -- is a set of instructions on a computing device that accepts input (data), analyzes and/or modifies that input (processing), and provides output (also data).\n",
    "\n",
    "Broadly speaking, all activity on a digital computational device consists of \"programs\": operating systems, individual applications, your microwave's programmable timer, the display interface and individual games on XBox Live.\n",
    "\n",
    "* __Input examples:__ human-provided text, numbers, button selections (red/green, on/off), files containing data \n",
    "\n",
    "  * (_Input devices:_ keyboards, smartphone touchscreens, mice, file or data transfers from other computers over a network)\n",
    "\n",
    "\n",
    "* __Processing examples:__ calculations, decisions (this-or-that), sorting and grouping, transforming data from one form to another\n",
    "\n",
    "\n",
    "* __Output examples:__ text, numbers, graphics, statistical results, charts, video game environment and character response\n",
    "\n",
    "## In what ways are programs useful?\n",
    "\n",
    "* Computational speed: They can do stuff -- especially calculation -- faster than humans.\n",
    "* Consistency: Repeatable application of rules and systems to data.\n",
    "* Automated communication: Many programs can talk to each other without human intervention (i.e. web services)\n",
    "* Managing the storage of data: ...\n",
    "* Visualization: Can quickly render and display the results of complex data analyses "
   ]
  },
  {
   "cell_type": "code",
   "execution_count": null,
   "metadata": {},
   "outputs": [],
   "source": [
    "#######################################################################\n",
    "# Your amazing bar chart program!\n",
    "#\n",
    "# This program declares several arbitrary DNA sequence fragments, \n",
    "# calculates their length, and plots a bar chart comparing the length \n",
    "# of each fragment.\n",
    "#######################################################################\n",
    "\n",
    "\n",
    "#######################################################################\n",
    "# IMPORT other software packages (libraries) this program will need \n",
    "\n",
    "# a suite of graphing and plotting tools\n",
    "import matplotlib.pyplot as plt\n",
    "\n",
    "# an advanced collection of functions for manipulating large arrays and matrices\n",
    "import numpy as np\n",
    "\n",
    "\n",
    "#######################################################################\n",
    "# DECLARE my variables\n",
    "sequence_fragment_1 = \"ACGT\"\n",
    "sequence_fragment_2 = \"ACGTGGTACGA\"\n",
    "sequence_fragment_3 = \"ACGTGGA\"\n",
    "sequence_fragment_4 = \"ACGTGGATTTTTTGGAGGCA\"\n",
    "\n",
    "\n",
    "#######################################################################\n",
    "# FUNCTION declarations: where my program stashes smaller chunks of \n",
    "# code to be called and run from another part of my program\n",
    "\n",
    "#--------------------------------------------------------\n",
    "# print my list of sequence lengths, with more formatting\n",
    "#--------------------------------------------------------\n",
    "def print_my_seq_lengths(fragment_list):\n",
    "    print(str(fragment_list[0])\n",
    "          + \":\" + str(fragment_list[1])    \n",
    "          + \":\" + str(fragment_list[2])   \n",
    "          + \":\" + str(fragment_list[3]))    \n",
    "#--------------------------------------------------------\n",
    "\n",
    "\n",
    "#--------------------------------------------------------\n",
    "# set bar color based on length\n",
    "#--------------------------------------------------------\n",
    "def set_bar_color(my_bars):\n",
    "    for bar in my_bars:\n",
    "        #print(bar.__dict__.keys())\n",
    "        if bar._height < 5:\n",
    "            bar.set_color('blue')\n",
    "        elif bar._height >= 5 and bar._height < 10:\n",
    "            bar.set_color('yellow')\n",
    "        elif bar._height >= 10 and bar._height < 15:\n",
    "            bar.set_color('orange')\n",
    "        else:\n",
    "            bar.set_color('red')\n",
    "#--------------------------------------------------------\n",
    "        \n",
    "\n",
    "#--------------------------------------------------------\n",
    "# also self-explanatory\n",
    "#--------------------------------------------------------\n",
    "def create_bar_chart(fragment_list):\n",
    "    objects = ('fragment1', 'fragment2', 'fragment3', 'fragment4')\n",
    "    y_pos = np.arange(len(objects)) # note the funky spelling of \"arange\"\n",
    "    length_data = fragment_list\n",
    " \n",
    "    barlist = plt.bar(y_pos, length_data, align='center', alpha=0.7)\n",
    "    plt.xticks(y_pos, objects)\n",
    "    plt.ylabel('Sequence Length')\n",
    "    plt.title('A comparison of my sequence lengths')\n",
    " \n",
    "    set_bar_color(barlist)\n",
    "\n",
    "    plt.show()\n",
    "#--------------------------------------------------------\n",
    "\n",
    "#######################################################################\n",
    "# MAIN: The main body of my program code. This is the section that \n",
    "# begins \"doing stuff\". \n",
    "\n",
    "#Get the length of my sequences, and store them in a list.\n",
    "len_fragment_1 = len(sequence_fragment_1)\n",
    "len_fragment_2 = len(sequence_fragment_2)\n",
    "len_fragment_3 = len(sequence_fragment_3)\n",
    "len_fragment_4 = len(sequence_fragment_4)\n",
    "\n",
    "fragment_lengths = [len_fragment_1, \n",
    "                    len_fragment_2, \n",
    "                    len_fragment_3, \n",
    "                    len_fragment_4]\n",
    "print(len_fragment_1,len_fragment_2,len_fragment_3,len_fragment_4)\n",
    "print(fragment_lengths)\n",
    "\n",
    "# calling functions that do more stuff (and passing my variables to them)\n",
    "print_my_seq_lengths(fragment_lengths)\n",
    "create_bar_chart(fragment_lengths)\n",
    "\n",
    "# END\n",
    "#######################################################################\n"
   ]
  },
  {
   "cell_type": "markdown",
   "metadata": {},
   "source": [
    "## Components of a program\n",
    "\n",
    "Programs are made up of statements, or instructions that tell the computer to do \"something\". Different programming languages have different ways of making these statements, but there are some common features across multiple languages, including Python:\n",
    "\n",
    "* Comments: Non-functional chunk of text; often used by the programmer to leave explanations and code documentation for other human readers.\n",
    "* Imports / Usage: bringing in references to other code for use\n",
    "* Declarations (setting variables, calling other chunks of code, \"commands\")\n",
    "* Control Flow (decisions: this-or-that, loops: repeat this chunk of code a certain number of times under certain conditions)\n"
   ]
  },
  {
   "cell_type": "markdown",
   "metadata": {},
   "source": [
    "## Comments\n"
   ]
  },
  {
   "cell_type": "code",
   "execution_count": null,
   "metadata": {},
   "outputs": [],
   "source": [
    "# This is a comment\n",
    "This is not a comment - oh, now it is\n",
    "#print(\"This is a string printed to my display.\")\n",
    "print(\"# This is not a comment\")"
   ]
  },
  {
   "cell_type": "markdown",
   "metadata": {},
   "source": [
    "## Declarations and Variables\n",
    "\n",
    "Variables are exactly what they sound like: something that varies. Variables can be assigned via user input, or directly declared in the program. Variables point to a location in a computer's memory, and are used to store data.\n",
    "\n",
    "### Data types\n",
    "* Numbers (Integers, Floating Point Numbers)\n",
    "* Strings (including single characters)\n",
    "* Lists (of other variables)\n",
    "* Dictionaries (a group of keys and their values)"
   ]
  },
  {
   "cell_type": "markdown",
   "metadata": {},
   "source": [
    "#### Numbers\n",
    "\n",
    "* Integers (int)\n",
    "* Floating Point (float)\n",
    "...there are others (Decimal, Fraction)"
   ]
  },
  {
   "cell_type": "code",
   "execution_count": null,
   "metadata": {},
   "outputs": [],
   "source": [
    "# variable declarations (integers)\n",
    "w = \"word\"\n",
    "x = 1\n",
    "y = 2\n",
    "z = 3.56\n",
    "\n",
    "# ...then a demonstration of type incompatibility, type conversion issues\n",
    "i = x + y\n",
    "print(i)\n",
    "\n",
    "j = x + z\n",
    "print(j)\n",
    "\n",
    "#k = w + x\n",
    "#print(k)"
   ]
  },
  {
   "cell_type": "markdown",
   "metadata": {},
   "source": [
    "#### Strings\n",
    "Strings are text.  They are actually composed of a list of a single values."
   ]
  },
  {
   "cell_type": "code",
   "execution_count": null,
   "metadata": {},
   "outputs": [],
   "source": [
    "a = \"my first string\"\n",
    "b = \"my second string\"\n",
    "print(a+', '+b)\n",
    "\n",
    "my_string = \"Wildfire smoke causes ennui.\"\n",
    "print(my_string)\n",
    "print(my_string[0]) # bracket notation\n",
    "my_not_a_string = ['s', 't', 'r', 'i', 'n', 'g']\n",
    "print(''.join(my_not_a_string))"
   ]
  },
  {
   "cell_type": "markdown",
   "metadata": {},
   "source": [
    "#### Lists\n",
    "A group of ORDERED variable values, accessed by number position (known as an \"index\")."
   ]
  },
  {
   "cell_type": "code",
   "execution_count": null,
   "metadata": {},
   "outputs": [],
   "source": [
    "# this is a list\n",
    "squares = [1, 4, 9, 16, 25]\n",
    "\n",
    "print(squares[2])\n",
    "print(squares[:2])\n",
    "\n",
    "squares[2] = 3\n",
    "squares\n",
    "print(squares[2])"
   ]
  },
  {
   "cell_type": "markdown",
   "metadata": {},
   "source": [
    "#### Dictionaries\n",
    "A group of UNORDERED \"keys\" (unique variable names) and their corresponding \"values\"\n",
    "- each entry is referred to as a \"key-value pair\""
   ]
  },
  {
   "cell_type": "code",
   "execution_count": null,
   "metadata": {},
   "outputs": [],
   "source": [
    "tel = {'M': 'Met', 'L': \"Leu\"}\n",
    "print(tel)\n",
    "tel['R']= 'Arg'\n",
    "print(tel)\n"
   ]
  },
  {
   "cell_type": "markdown",
   "metadata": {},
   "source": [
    "## Decisions\n",
    "Controlling the flow of your program"
   ]
  },
  {
   "cell_type": "code",
   "execution_count": null,
   "metadata": {},
   "outputs": [],
   "source": [
    "x = 4\n",
    "y = 3\n",
    "\n",
    "if (x == 2):\n",
    "    print(\"ok\")\n",
    "elif (x == 0):\n",
    "    print(y)\n",
    "else:\n",
    "    print(\"Not ok: \" + str(y) + \" = \" + str(x))"
   ]
  },
  {
   "cell_type": "markdown",
   "metadata": {},
   "source": [
    "## Indentation and whitespace in Python\n",
    "\n",
    "As a matter of programming style, indentation is encouraged in any programming language, because it helps you to keep your code visually organized. In Python, indentation is actually a fundamental element of syntax; it is not only suggested but required."
   ]
  },
  {
   "cell_type": "code",
   "execution_count": null,
   "metadata": {},
   "outputs": [],
   "source": [
    "x = 1\n",
    "y = 2\n",
    "\n",
    "if x == 1:\n",
    "    print(x)\n",
    "    if y == 2:\n",
    "        print(y)"
   ]
  },
  {
   "cell_type": "code",
   "execution_count": null,
   "metadata": {},
   "outputs": [],
   "source": [
    "#--------------------------------------------------------\n",
    "# Now replace the bar chart function call with a pie chart\n",
    "#--------------------------------------------------------\n",
    "def create_pie_chart(my_fragments):\n",
    "    labels = 'fragment1', 'fragment2', 'fragment3', 'fragment4'\n",
    "    total_fragments_length = sum(my_fragments)\n",
    "    sizes = [my_fragments[0]/total_fragments_length, \n",
    "             my_fragments[1]/total_fragments_length, \n",
    "             my_fragments[2]/total_fragments_length, \n",
    "             my_fragments[3]/total_fragments_length]\n",
    "    colors = ['gold', 'yellowgreen', 'lightcoral', 'lightskyblue']\n",
    " \n",
    "    # Plot\n",
    "    plt.pie(sizes, labels=labels, colors=colors, autopct='%1.1f%%', shadow=True, startangle=140)\n",
    "\n",
    "    plt.axis('equal')\n",
    "    plt.show()\n",
    "#--------------------------------------------------------\n",
    "\n",
    "create_pie_chart(fragment_lengths)\n"
   ]
  }
 ],
 "metadata": {
  "kernelspec": {
   "display_name": "Python 3",
   "language": "python",
   "name": "python3"
  },
  "language_info": {
   "codemirror_mode": {
    "name": "ipython",
    "version": 3
   },
   "file_extension": ".py",
   "mimetype": "text/x-python",
   "name": "python",
   "nbconvert_exporter": "python",
   "pygments_lexer": "ipython3",
   "version": "3.6.1"
  }
 },
 "nbformat": 4,
 "nbformat_minor": 1
}
