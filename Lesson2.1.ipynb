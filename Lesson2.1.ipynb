{
 "cells": [
  {
   "cell_type": "markdown",
   "metadata": {},
   "source": [
    "# Importing functions and data\n",
    "\n",
    "Sometimes you want to perform an action or analysis on some data you have that many other people may have had to perform in the past.  In lots of cases, other people have already written fuctions do do exactly what you are looking to do.  The great thing about python is that you can simply import these functions by importing python libraries, and using the functions contained in those libraries.  \n",
    "\n",
    "Lots of really smart people have written really cool libraries, and one of the rules of good programming is to avoid reinventing the wheel."
   ]
  },
  {
   "cell_type": "markdown",
   "metadata": {},
   "source": [
    "Let's begin by importing a module that is contained in Python's standard library.  The standard library is a collection of useful, curated modules that come standard with most installations of Python."
   ]
  },
  {
   "cell_type": "markdown",
   "metadata": {},
   "source": [
    "## Import statements\n",
    "\n",
    "Import statements are usually found at the beginning of a program, and need to be executed BEFORE any of the module's functions are used in the body of the code.\n",
    "\n",
    "The module we will attempt to use is the `time` module:"
   ]
  },
  {
   "cell_type": "code",
   "execution_count": 1,
   "metadata": {
    "collapsed": true
   },
   "outputs": [],
   "source": [
    "import time"
   ]
  },
  {
   "cell_type": "markdown",
   "metadata": {},
   "source": [
    "Now that we've imported the `time` module, we can use the functions defined in that module by specifying where that function 'lives'\n",
    "\n",
    "For example, the `time` module contains a function called `sleep()` which simply causes the program to pause for a defined number of seconds before continuing down the program.  \n",
    "\n",
    "Try it out!"
   ]
  },
  {
   "cell_type": "code",
   "execution_count": 2,
   "metadata": {},
   "outputs": [
    {
     "name": "stdout",
     "output_type": "stream",
     "text": [
      "begin program.\n",
      "hello world!\n",
      "end program.\n"
     ]
    }
   ],
   "source": [
    "# without sleeping\n",
    "\n",
    "print('begin program.')\n",
    "x = 'hello world!'\n",
    "print(x)\n",
    "print('end program.')"
   ]
  },
  {
   "cell_type": "code",
   "execution_count": 3,
   "metadata": {},
   "outputs": [
    {
     "name": "stdout",
     "output_type": "stream",
     "text": [
      "begin program.\n",
      "hello world!\n",
      "end program.\n"
     ]
    }
   ],
   "source": [
    "# with sleeping\n",
    "\n",
    "print('begin program.')\n",
    "x = 'hello world!'\n",
    "print(x)\n",
    "time.sleep(5)  # program should wait 5 seconds before continuing\n",
    "print('end program.')"
   ]
  },
  {
   "cell_type": "markdown",
   "metadata": {},
   "source": [
    "Notice that in order to call the sleep function we had to reference the module beforehand using a '`.`' between; simply calling the `sleep()` function without telling the computer where to find that function results in an error:\n"
   ]
  },
  {
   "cell_type": "code",
   "execution_count": 4,
   "metadata": {},
   "outputs": [
    {
     "name": "stdout",
     "output_type": "stream",
     "text": [
      "begin program.\n",
      "hello world!\n"
     ]
    },
    {
     "ename": "NameError",
     "evalue": "name 'sleep' is not defined",
     "output_type": "error",
     "traceback": [
      "\u001b[0;31m\u001b[0m",
      "\u001b[0;31mNameError\u001b[0mTraceback (most recent call last)",
      "\u001b[0;32m<ipython-input-4-39fc93d4fa2f>\u001b[0m in \u001b[0;36m<module>\u001b[0;34m()\u001b[0m\n\u001b[1;32m      4\u001b[0m \u001b[0mx\u001b[0m \u001b[0;34m=\u001b[0m \u001b[0;34m'hello world!'\u001b[0m\u001b[0;34m\u001b[0m\u001b[0m\n\u001b[1;32m      5\u001b[0m \u001b[0mprint\u001b[0m\u001b[0;34m(\u001b[0m\u001b[0mx\u001b[0m\u001b[0;34m)\u001b[0m\u001b[0;34m\u001b[0m\u001b[0m\n\u001b[0;32m----> 6\u001b[0;31m \u001b[0msleep\u001b[0m\u001b[0;34m(\u001b[0m\u001b[0;36m5\u001b[0m\u001b[0;34m)\u001b[0m  \u001b[0;31m# program should wait 5 seconds before continuing\u001b[0m\u001b[0;34m\u001b[0m\u001b[0m\n\u001b[0m\u001b[1;32m      7\u001b[0m \u001b[0mprint\u001b[0m\u001b[0;34m(\u001b[0m\u001b[0;34m'end program.'\u001b[0m\u001b[0;34m)\u001b[0m\u001b[0;34m\u001b[0m\u001b[0m\n",
      "\u001b[0;31mNameError\u001b[0m: name 'sleep' is not defined"
     ]
    }
   ],
   "source": [
    "# with sleeping\n",
    "\n",
    "print('begin program.')\n",
    "x = 'hello world!'\n",
    "print(x)\n",
    "sleep(5)  # program should wait 5 seconds before continuing\n",
    "print('end program.')"
   ]
  },
  {
   "cell_type": "markdown",
   "metadata": {},
   "source": [
    "The computer is telling us that we have not defined anything using the name 'sleep'!"
   ]
  },
  {
   "cell_type": "markdown",
   "metadata": {},
   "source": [
    "## the random module "
   ]
  },
  {
   "cell_type": "code",
   "execution_count": 5,
   "metadata": {
    "collapsed": true
   },
   "outputs": [],
   "source": [
    "import random"
   ]
  },
  {
   "cell_type": "markdown",
   "metadata": {},
   "source": [
    "The random module contains a function called `randint()` that returns a random integer between the two values you provide as input."
   ]
  },
  {
   "cell_type": "code",
   "execution_count": 21,
   "metadata": {},
   "outputs": [
    {
     "name": "stdout",
     "output_type": "stream",
     "text": [
      "0\n"
     ]
    }
   ],
   "source": [
    "## Generate a random integer between 0 and 10\n",
    "\n",
    "x = random.randint(0,10)\n",
    "print(x)"
   ]
  },
  {
   "cell_type": "markdown",
   "metadata": {},
   "source": [
    "Just for fun, run the above cell a few times, and notice you get different values each time you run it!  Cool, huh?"
   ]
  },
  {
   "cell_type": "markdown",
   "metadata": {},
   "source": [
    "## MUTATIONS!!!\n",
    "One of the ways organisms gain new phenotypes is through mutation.  Mutations are random, and these mutations, if not selected against, can accumulate over generations.\n",
    "\n",
    "How would you go about modeling something that is random, and causes changes in a DNA sequence...?\n",
    "\n",
    "Think back to lesson2.0\n",
    "\n",
    "**Let's write a function to simulate random mutations!!**"
   ]
  },
  {
   "cell_type": "code",
   "execution_count": 24,
   "metadata": {},
   "outputs": [
    {
     "data": {
      "text/plain": [
       "'TTTAAGCCC'"
      ]
     },
     "execution_count": 24,
     "metadata": {},
     "output_type": "execute_result"
    }
   ],
   "source": [
    "## Start with our original gene\n",
    "\n",
    "dna1 = \"TTTATGCCC\"\n",
    "\n",
    "## we need a list of options to choose from\n",
    "\n",
    "base_options = ['A','T','C','G']\n",
    "\n",
    "def mutate(seq):\n",
    "    # find the length of our input sequence\n",
    "    seqlen = len(seq)\n",
    "    mutation_location = random.randint(0,seqlen)\n",
    "    mutated_seq = list(seq)\n",
    "    new_base = base_options[random.randint(0,3)]\n",
    "    mutated_seq[mutation_location] = new_base\n",
    "    return ''.join(mutated_seq)\n",
    "    \n",
    "mutate(dna1)"
   ]
  },
  {
   "cell_type": "code",
   "execution_count": 17,
   "metadata": {
    "collapsed": true
   },
   "outputs": [],
   "source": [
    "def dna_analyze(seq):\n",
    "    # The new function has the name \"dna_analyze\" and requires the input of a sequence, named 'seq'\n",
    "    dnalength = len(seq)\n",
    "    print('The length of dna1 is {} basepairs.'.format(dnalength))\n",
    "    if 'ATG' in seq:\n",
    "        print('Your DNA sequence contains a start codon')\n",
    "        start_pos = seq.find('ATG')\n",
    "        print('The coding sequence starts at position {}'.format(start_pos))\n",
    "    else:\n",
    "        print('No start codon detected.')\n",
    "    "
   ]
  },
  {
   "cell_type": "code",
   "execution_count": null,
   "metadata": {
    "collapsed": true
   },
   "outputs": [],
   "source": []
  }
 ],
 "metadata": {
  "kernelspec": {
   "display_name": "Python 3",
   "language": "python",
   "name": "python3"
  },
  "language_info": {
   "codemirror_mode": {
    "name": "ipython",
    "version": 3
   },
   "file_extension": ".py",
   "mimetype": "text/x-python",
   "name": "python",
   "nbconvert_exporter": "python",
   "pygments_lexer": "ipython3",
   "version": "3.4.5"
  }
 },
 "nbformat": 4,
 "nbformat_minor": 2
}
